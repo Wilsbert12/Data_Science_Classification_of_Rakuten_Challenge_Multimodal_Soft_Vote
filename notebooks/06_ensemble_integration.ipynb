{
 "cells": [
  {
   "cell_type": "markdown",
   "metadata": {},
   "source": [
    "# Ensemble Classifier"
   ]
  },
  {
   "cell_type": "markdown",
   "metadata": {},
   "source": [
    "## 1. Setup and Imports\n"
   ]
  },
  {
   "cell_type": "code",
   "execution_count": 1,
   "metadata": {},
   "outputs": [],
   "source": [
    "# Standard imports\n",
    "import torch\n",
    "import torch.nn.functional as F\n",
    "import pandas as pd\n",
    "import numpy as np\n",
    "import json\n",
    "import os\n",
    "from tqdm import tqdm\n",
    "\n",
    "# Model imports\n",
    "from transformers import CamembertForSequenceClassification, CamembertTokenizer\n",
    "from torchvision import models, transforms\n",
    "from sklearn.preprocessing import LabelEncoder\n",
    "from sklearn.metrics import f1_score, classification_report\n",
    "import joblib\n",
    "\n",
    "# Visualization\n",
    "import matplotlib.pyplot as plt\n",
    "import seaborn as sns\n",
    "\n",
    "# Local utilities\n",
    "import sys\n",
    "sys.path.append('..')\n",
    "from utils.text_utils import text_pre_processing"
   ]
  },
  {
   "cell_type": "markdown",
   "metadata": {},
   "source": [
    "## 2. Configuration"
   ]
  },
  {
   "cell_type": "code",
   "execution_count": 2,
   "metadata": {},
   "outputs": [
    {
     "name": "stdout",
     "output_type": "stream",
     "text": [
      "Using device: cpu\n"
     ]
    }
   ],
   "source": [
    "# Model paths\n",
    "MODEL_PATHS = {\n",
    "    'svm': '../models/svc_classifier.pkl',\n",
    "    'tfidf': '../models/tfidfvectorizer_vectorizer.pkl',\n",
    "    'vgg16': '../models/vgg16_transfer_model.pth',\n",
    "    'bert': '../models/bert'\n",
    "}\n",
    "\n",
    "# Data paths\n",
    "DATA_PATHS = {\n",
    "    'localization': '../data/language_analysis/df_localization.csv',\n",
    "    'images': '../data/processed/images/image_train_vgg16/val'\n",
    "}\n",
    "\n",
    "# Device configuration\n",
    "device = torch.device('cuda' if torch.cuda.is_available() else 'cpu')\n",
    "print(f\"Using device: {device}\")"
   ]
  },
  {
   "cell_type": "markdown",
   "metadata": {},
   "source": [
    "## 3. Data Preparation"
   ]
  },
  {
   "cell_type": "code",
   "execution_count": 3,
   "metadata": {},
   "outputs": [
    {
     "name": "stdout",
     "output_type": "stream",
     "text": [
      "✅ Final validation dataset: 3191 samples ready for ensemble\n"
     ]
    }
   ],
   "source": [
    "# Load validation data with correct image paths\n",
    "df = pd.read_csv('../data/language_analysis/df_localization.csv')\n",
    "df[\"text\"] = np.where(df[\"deepL_translation\"].notna(), \n",
    "                     df[\"deepL_translation\"],\n",
    "                     df[\"merged_text\"])\n",
    "\n",
    "# Consistent label encoding and validation split\n",
    "le = LabelEncoder()\n",
    "df['prdtypecode_encoded'] = le.fit_transform(df['prdtypecode'])\n",
    "\n",
    "from sklearn.model_selection import train_test_split\n",
    "_, df_val = train_test_split(df, random_state=42, \n",
    "                            stratify=df['prdtypecode_encoded'], \n",
    "                            test_size=0.2)\n",
    "\n",
    "# Build image mapping (the key function we discovered)\n",
    "def build_image_path_mapping(base_dir):\n",
    "    image_mapping = {}\n",
    "    for class_folder in os.listdir(base_dir):\n",
    "        class_path = os.path.join(base_dir, class_folder)\n",
    "        if os.path.isdir(class_path) and class_folder != '.DS_Store':\n",
    "            for image_file in os.listdir(class_path):\n",
    "                if image_file.endswith('.jpg'):\n",
    "                    image_mapping[image_file] = os.path.join(class_path, image_file)\n",
    "    return image_mapping\n",
    "\n",
    "# Get image paths with _cpr suffix handling\n",
    "val_image_mapping = build_image_path_mapping('../data/processed/images/image_train_vgg16/val')\n",
    "\n",
    "def get_image_path(image_name):\n",
    "    # Try with _cpr suffix\n",
    "    processed_name = image_name.replace('.jpg', '_cpr.jpg')\n",
    "    return val_image_mapping.get(processed_name, None)\n",
    "\n",
    "df_val['image_path'] = df_val.apply(lambda row: get_image_path(f\"image_{row['imageid']}_product_{row['productid']}.jpg\"), axis=1)\n",
    "\n",
    "# Keep only samples with available images\n",
    "df_val_ready = df_val[df_val['image_path'].notna()].copy()\n",
    "\n",
    "print(f\"✅ Final validation dataset: {len(df_val_ready)} samples ready for ensemble\")"
   ]
  },
  {
   "cell_type": "markdown",
   "metadata": {},
   "source": [
    "## 4. Load SVM Model"
   ]
  },
  {
   "cell_type": "code",
   "execution_count": 4,
   "metadata": {},
   "outputs": [
    {
     "name": "stdout",
     "output_type": "stream",
     "text": [
      "Loading SVM model...\n",
      "✅ SVM and TF-IDF loaded successfully\n",
      "SVM test prediction: 1301\n",
      "SVM confidence: 0.976\n",
      "SVM output shape: (27,)\n"
     ]
    }
   ],
   "source": [
    "# Load SVM model and TF-IDF vectorizer\n",
    "print(\"Loading SVM model...\")\n",
    "try:\n",
    "    svm_model = joblib.load('../models/svc_classifier.pkl')\n",
    "    tfidf_vectorizer = joblib.load('../models/tfidfvectorizer_vectorizer.pkl')\n",
    "    print(\"✅ SVM and TF-IDF loaded successfully\")\n",
    "    \n",
    "    # Quick test on one sample\n",
    "    test_text = df_val_ready.iloc[0]['text']\n",
    "    test_tfidf = tfidf_vectorizer.transform([test_text])\n",
    "    svm_pred = svm_model.predict(test_tfidf)[0]\n",
    "    svm_prob = svm_model.predict_proba(test_tfidf)[0]\n",
    "    \n",
    "    print(f\"SVM test prediction: {svm_pred}\")\n",
    "    print(f\"SVM confidence: {svm_prob.max():.3f}\")\n",
    "    print(f\"SVM output shape: {svm_prob.shape}\")\n",
    "    \n",
    "except Exception as e:\n",
    "    print(f\"❌ Error loading SVM: {e}\")"
   ]
  },
  {
   "cell_type": "markdown",
   "metadata": {},
   "source": [
    "## 5. Load BERT Model"
   ]
  },
  {
   "cell_type": "code",
   "execution_count": 5,
   "metadata": {},
   "outputs": [
    {
     "name": "stdout",
     "output_type": "stream",
     "text": [
      "Installing SentencePiece...\n",
      "Requirement already satisfied: sentencepiece in /Users/robertwilson/Desktop/Data_Science_Classification_of_Rakuten_Challenge_Multimodal_Soft_Vote/rakuten-env-clean/lib/python3.11/site-packages (0.2.0)\n",
      "✅ SentencePiece installed successfully\n",
      "Note: You may need to restart your kernel after installation\n"
     ]
    },
    {
     "name": "stderr",
     "output_type": "stream",
     "text": [
      "\n",
      "\u001b[1m[\u001b[0m\u001b[34;49mnotice\u001b[0m\u001b[1;39;49m]\u001b[0m\u001b[39;49m A new release of pip is available: \u001b[0m\u001b[31;49m25.1.1\u001b[0m\u001b[39;49m -> \u001b[0m\u001b[32;49m25.2\u001b[0m\n",
      "\u001b[1m[\u001b[0m\u001b[34;49mnotice\u001b[0m\u001b[1;39;49m]\u001b[0m\u001b[39;49m To update, run: \u001b[0m\u001b[32;49mpip install --upgrade pip\u001b[0m\n"
     ]
    }
   ],
   "source": [
    "# Install SentencePiece\n",
    "import subprocess\n",
    "import sys\n",
    "\n",
    "print(\"Installing SentencePiece...\")\n",
    "try:\n",
    "    subprocess.check_call([sys.executable, \"-m\", \"pip\", \"install\", \"sentencepiece\"])\n",
    "    print(\"✅ SentencePiece installed successfully\")\n",
    "    print(\"Note: You may need to restart your kernel after installation\")\n",
    "except Exception as e:\n",
    "    print(f\"❌ Installation error: {e}\")"
   ]
  },
  {
   "cell_type": "code",
   "execution_count": 6,
   "metadata": {},
   "outputs": [
    {
     "name": "stdout",
     "output_type": "stream",
     "text": [
      "Loading BERT model...\n",
      "✅ BERT loaded successfully\n",
      "BERT test prediction: 10\n",
      "BERT confidence: 0.991\n",
      "BERT output shape: (27,)\n"
     ]
    }
   ],
   "source": [
    "# Load BERT model\n",
    "print(\"Loading BERT model...\")\n",
    "try:\n",
    "    bert_model = CamembertForSequenceClassification.from_pretrained('../models/bert')\n",
    "    bert_tokenizer = CamembertTokenizer.from_pretrained('../models/bert')\n",
    "    bert_model.eval()\n",
    "    bert_model.to(device)\n",
    "    print(\"✅ BERT loaded successfully\")\n",
    "    \n",
    "    # Quick test on one sample\n",
    "    test_text = df_val_ready.iloc[0]['text']\n",
    "    text_inputs = bert_tokenizer(\n",
    "        test_text, return_tensors='pt', padding='max_length',\n",
    "        truncation=True, max_length=256\n",
    "    )\n",
    "    \n",
    "    with torch.no_grad():\n",
    "        text_inputs = {k: v.to(device) for k, v in text_inputs.items()}\n",
    "        bert_outputs = bert_model(**text_inputs)\n",
    "        bert_prob = F.softmax(bert_outputs.logits, dim=1).cpu().numpy()[0]\n",
    "    \n",
    "    bert_pred = np.argmax(bert_prob)\n",
    "    print(f\"BERT test prediction: {bert_pred}\")\n",
    "    print(f\"BERT confidence: {bert_prob.max():.3f}\")\n",
    "    print(f\"BERT output shape: {bert_prob.shape}\")\n",
    "    \n",
    "except Exception as e:\n",
    "    print(f\"❌ Error loading BERT: {e}\")"
   ]
  },
  {
   "cell_type": "markdown",
   "metadata": {},
   "source": [
    "## 6. Load VGG16 Model"
   ]
  },
  {
   "cell_type": "code",
   "execution_count": 8,
   "metadata": {},
   "outputs": [
    {
     "name": "stdout",
     "output_type": "stream",
     "text": [
      "Testing VGG16 with correct imports...\n",
      "VGG16 test prediction: 4\n",
      "VGG16 confidence: 0.113\n",
      "VGG16 output shape: (27,)\n",
      "✅ VGG16 working correctly!\n"
     ]
    }
   ],
   "source": [
    "# Add missing import\n",
    "from PIL import Image\n",
    "\n",
    "# Now test VGG16 again\n",
    "print(\"Testing VGG16 with correct imports...\")\n",
    "try:\n",
    "    test_image_path = df_val_ready.iloc[0]['image_path']\n",
    "    test_image = Image.open(test_image_path).convert(\"RGB\")\n",
    "    image_tensor = image_transform(test_image).unsqueeze(0).to(device)\n",
    "    \n",
    "    with torch.no_grad():\n",
    "        vgg16_logits = vgg16_model(image_tensor)\n",
    "        vgg16_prob = F.softmax(vgg16_logits, dim=1).cpu().numpy()[0]\n",
    "    \n",
    "    vgg16_pred = np.argmax(vgg16_prob)\n",
    "    print(f\"VGG16 test prediction: {vgg16_pred}\")\n",
    "    print(f\"VGG16 confidence: {vgg16_prob.max():.3f}\")\n",
    "    print(f\"VGG16 output shape: {vgg16_prob.shape}\")\n",
    "    print(\"✅ VGG16 working correctly!\")\n",
    "    \n",
    "except Exception as e:\n",
    "    print(f\"❌ Error: {e}\")"
   ]
  },
  {
   "cell_type": "markdown",
   "metadata": {},
   "source": [
    "## 7. Test ensemble + label encoding fix "
   ]
  },
  {
   "cell_type": "code",
   "execution_count": 11,
   "metadata": {},
   "outputs": [
    {
     "name": "stdout",
     "output_type": "stream",
     "text": [
      "=== FIXING LABEL ENCODING CONSISTENCY ===\n",
      "SVM prediction conversion:\n",
      "  Original: 1301\n",
      "  Encoded: 10\n",
      "\n",
      "All predictions in encoded format:\n",
      "SVM:   10\n",
      "BERT:  10\n",
      "VGG16: 4\n",
      "True:  10\n",
      "\n",
      "Correctness check:\n",
      "SVM correct:   True ✅\n",
      "BERT correct:  True ✅\n",
      "VGG16 correct: False ❌\n",
      "\n",
      "=== CORRECTED ENSEMBLE TEST ===\n",
      "SVM probability conversion successful\n",
      "SVM max prob before: 0.976\n",
      "SVM max prob after: 0.976\n",
      "Config 1: Class 10 (confidence: 0.658) ✅\n",
      "Config 2: Class 10 (confidence: 0.792) ✅\n",
      "Config 3: Class 10 (confidence: 0.794) ✅\n"
     ]
    }
   ],
   "source": [
    "# Fix SVM predictions to use encoded labels\n",
    "print(\"=== FIXING LABEL ENCODING CONSISTENCY ===\")\n",
    "\n",
    "# Convert SVM prediction from original to encoded\n",
    "svm_pred_encoded = le.transform([svm_pred])[0]\n",
    "print(f\"SVM prediction conversion:\")\n",
    "print(f\"  Original: {svm_pred}\")\n",
    "print(f\"  Encoded: {svm_pred_encoded}\")\n",
    "\n",
    "# Now all predictions are in encoded format\n",
    "print(f\"\\nAll predictions in encoded format:\")\n",
    "print(f\"SVM:   {svm_pred_encoded}\")\n",
    "print(f\"BERT:  {bert_pred}\")  \n",
    "print(f\"VGG16: {vgg16_pred}\")\n",
    "print(f\"True:  {true_encoded}\")\n",
    "\n",
    "# Check which models got it right (in encoded format)\n",
    "print(f\"\\nCorrectness check:\")\n",
    "print(f\"SVM correct:   {svm_pred_encoded == true_encoded} ✅\")\n",
    "print(f\"BERT correct:  {bert_pred == true_encoded} ✅\") \n",
    "print(f\"VGG16 correct: {vgg16_pred == true_encoded} ❌\")\n",
    "\n",
    "# Re-test ensemble with corrected predictions\n",
    "print(f\"\\n=== CORRECTED ENSEMBLE TEST ===\")\n",
    "\n",
    "# Create corrected probability distributions\n",
    "# For SVM: we need to rearrange probabilities to match encoded order\n",
    "svm_prob_encoded = np.zeros(27)\n",
    "for i, original_class in enumerate(le.classes_):\n",
    "    encoded_idx = le.transform([original_class])[0]\n",
    "    svm_prob_encoded[encoded_idx] = svm_prob[i]\n",
    "\n",
    "print(f\"SVM probability conversion successful\")\n",
    "print(f\"SVM max prob before: {svm_prob.max():.3f}\")\n",
    "print(f\"SVM max prob after: {svm_prob_encoded.max():.3f}\")\n",
    "\n",
    "# Now test ensemble with consistent encoding\n",
    "for i, weights in enumerate(weight_configs):\n",
    "    ensemble_prob = (weights['svm'] * svm_prob_encoded + \n",
    "                    weights['bert'] * bert_prob + \n",
    "                    weights['vgg16'] * vgg16_prob)\n",
    "    \n",
    "    ensemble_pred = np.argmax(ensemble_prob)\n",
    "    ensemble_conf = ensemble_prob.max()\n",
    "    \n",
    "    correct = \"✅\" if ensemble_pred == true_encoded else \"❌\"\n",
    "    print(f\"Config {i+1}: Class {ensemble_pred} (confidence: {ensemble_conf:.3f}) {correct}\")"
   ]
  },
  {
   "cell_type": "markdown",
   "metadata": {},
   "source": [
    "## 8. Full Ensemble Evaluation"
   ]
  },
  {
   "cell_type": "markdown",
   "metadata": {},
   "source": [
    "### 8.1 Sample Evaluation to find best weights"
   ]
  },
  {
   "cell_type": "code",
   "execution_count": null,
   "metadata": {},
   "outputs": [
    {
     "name": "stdout",
     "output_type": "stream",
     "text": [
      "=== FULL ENSEMBLE EVALUATION ===\n",
      "Evaluating on 3191 validation samples...\n",
      "Testing on 100 samples...\n",
      "\n",
      "--- Configuration 1: {'svm': 0.33, 'bert': 0.33, 'vgg16': 0.34} ---\n"
     ]
    },
    {
     "name": "stderr",
     "output_type": "stream",
     "text": [
      "Config 1: 100%|██████████| 100/100 [01:22<00:00,  1.22it/s]\n"
     ]
    },
    {
     "name": "stdout",
     "output_type": "stream",
     "text": [
      "F1 Weighted: 0.8367\n",
      "F1 Macro: 0.7687\n",
      "\n",
      "--- Configuration 2: {'svm': 0.4, 'bert': 0.4, 'vgg16': 0.2} ---\n"
     ]
    },
    {
     "name": "stderr",
     "output_type": "stream",
     "text": [
      "Config 2: 100%|██████████| 100/100 [01:36<00:00,  1.03it/s]\n"
     ]
    },
    {
     "name": "stdout",
     "output_type": "stream",
     "text": [
      "F1 Weighted: 0.8533\n",
      "F1 Macro: 0.7861\n",
      "\n",
      "--- Configuration 3: {'svm': 0.3, 'bert': 0.5, 'vgg16': 0.2} ---\n"
     ]
    },
    {
     "name": "stderr",
     "output_type": "stream",
     "text": [
      "Config 3: 100%|██████████| 100/100 [01:19<00:00,  1.27it/s]\n"
     ]
    },
    {
     "name": "stdout",
     "output_type": "stream",
     "text": [
      "F1 Weighted: 0.8522\n",
      "F1 Macro: 0.7858\n",
      "\n",
      "--- Configuration 4: {'svm': 0.5, 'bert': 0.3, 'vgg16': 0.2} ---\n"
     ]
    },
    {
     "name": "stderr",
     "output_type": "stream",
     "text": [
      "Config 4: 100%|██████████| 100/100 [01:18<00:00,  1.27it/s]"
     ]
    },
    {
     "name": "stdout",
     "output_type": "stream",
     "text": [
      "F1 Weighted: 0.8329\n",
      "F1 Macro: 0.8067\n",
      "\n",
      "=== BEST ENSEMBLE RESULTS ===\n",
      "Best F1 Score: 0.8533\n",
      "Best Configuration: {'svm': 0.4, 'bert': 0.4, 'vgg16': 0.2}\n",
      "Individual baselines: SVM=0.763, BERT=0.863, VGG16=0.518\n",
      "Ensemble improvement: -0.0097 vs best individual\n"
     ]
    },
    {
     "name": "stderr",
     "output_type": "stream",
     "text": [
      "\n"
     ]
    }
   ],
   "source": [
    "# Full ensemble evaluation on 100 validation samples\n",
    "print(\"=== FULL ENSEMBLE EVALUATION ===\")\n",
    "print(f\"Evaluating on {len(df_val_ready)} validation samples...\")\n",
    "\n",
    "# Function to convert SVM probabilities to encoded format\n",
    "def convert_svm_probabilities(svm_probs, label_encoder):\n",
    "    \"\"\"Convert SVM probabilities from original to encoded label order\"\"\"\n",
    "    converted_probs = np.zeros_like(svm_probs)\n",
    "    for i, original_class in enumerate(label_encoder.classes_):\n",
    "        encoded_idx = label_encoder.transform([original_class])[0]\n",
    "        converted_probs[:, encoded_idx] = svm_probs[:, i]\n",
    "    return converted_probs\n",
    "\n",
    "# Ensemble prediction function\n",
    "def predict_ensemble_sample(text, image_path, weights):\n",
    "    \"\"\"Predict on a single sample with all three models\"\"\"\n",
    "    \n",
    "    # SVM prediction\n",
    "    text_tfidf = tfidf_vectorizer.transform([text])\n",
    "    svm_probs_orig = svm_model.predict_proba(text_tfidf)\n",
    "    svm_probs = convert_svm_probabilities(svm_probs_orig, le)[0]\n",
    "    \n",
    "    # BERT prediction\n",
    "    text_inputs = bert_tokenizer(text, return_tensors='pt', padding='max_length',\n",
    "                                truncation=True, max_length=256)\n",
    "    with torch.no_grad():\n",
    "        text_inputs = {k: v.to(device) for k, v in text_inputs.items()}\n",
    "        bert_outputs = bert_model(**text_inputs)\n",
    "        bert_probs = F.softmax(bert_outputs.logits, dim=1).cpu().numpy()[0]\n",
    "    \n",
    "    # VGG16 prediction\n",
    "    image = Image.open(image_path).convert(\"RGB\")\n",
    "    image_tensor = image_transform(image).unsqueeze(0).to(device)\n",
    "    with torch.no_grad():\n",
    "        vgg16_logits = vgg16_model(image_tensor)\n",
    "        vgg16_probs = F.softmax(vgg16_logits, dim=1).cpu().numpy()[0]\n",
    "    \n",
    "    # Ensemble combination\n",
    "    ensemble_probs = (weights['svm'] * svm_probs + \n",
    "                     weights['bert'] * bert_probs + \n",
    "                     weights['vgg16'] * vgg16_probs)\n",
    "    \n",
    "    return np.argmax(ensemble_probs)\n",
    "\n",
    "# Test different weight configurations\n",
    "weight_configurations = [\n",
    "    {'svm': 0.33, 'bert': 0.33, 'vgg16': 0.34},  # Equal weights\n",
    "    {'svm': 0.4, 'bert': 0.4, 'vgg16': 0.2},     # Text-heavy  \n",
    "    {'svm': 0.3, 'bert': 0.5, 'vgg16': 0.2},     # BERT-heavy\n",
    "    {'svm': 0.5, 'bert': 0.3, 'vgg16': 0.2},     # SVM-heavy\n",
    "]\n",
    "\n",
    "# Evaluate each configuration (use smaller sample for quick test)\n",
    "sample_size = 100  # Start with 100 samples, remove this for full evaluation\n",
    "test_samples = df_val_ready.sample(n=sample_size, random_state=42)\n",
    "\n",
    "print(f\"Testing on {len(test_samples)} samples...\")\n",
    "\n",
    "best_f1 = 0\n",
    "best_config = None\n",
    "results = {}\n",
    "\n",
    "for i, weights in enumerate(weight_configurations):\n",
    "    print(f\"\\n--- Configuration {i+1}: {weights} ---\")\n",
    "    \n",
    "    predictions = []\n",
    "    true_labels = []\n",
    "    \n",
    "    for idx, row in tqdm(test_samples.iterrows(), total=len(test_samples), desc=f\"Config {i+1}\"):\n",
    "        try:\n",
    "            pred = predict_ensemble_sample(row['text'], row['image_path'], weights)\n",
    "            predictions.append(pred)\n",
    "            true_labels.append(row['prdtypecode_encoded'])\n",
    "        except Exception as e:\n",
    "            print(f\"Error on sample {idx}: {e}\")\n",
    "            continue\n",
    "    \n",
    "    # Calculate F1 score\n",
    "    f1_weighted = f1_score(true_labels, predictions, average='weighted')\n",
    "    f1_macro = f1_score(true_labels, predictions, average='macro')\n",
    "    \n",
    "    config_name = f\"svm_{weights['svm']}_bert_{weights['bert']}_vgg16_{weights['vgg16']}\"\n",
    "    results[config_name] = {\n",
    "        'f1_weighted': f1_weighted,\n",
    "        'f1_macro': f1_macro,\n",
    "        'weights': weights,\n",
    "        'samples_evaluated': len(predictions)\n",
    "    }\n",
    "    \n",
    "    print(f\"F1 Weighted: {f1_weighted:.4f}\")\n",
    "    print(f\"F1 Macro: {f1_macro:.4f}\")\n",
    "    \n",
    "    if f1_weighted > best_f1:\n",
    "        best_f1 = f1_weighted\n",
    "        best_config = weights\n",
    "\n",
    "print(f\"\\n=== BEST ENSEMBLE RESULTS ===\")\n",
    "print(f\"Best F1 Score: {best_f1:.4f}\")\n",
    "print(f\"Best Configuration: {best_config}\")\n",
    "print(f\"Individual baselines: SVM=0.763, BERT=0.863, VGG16=0.518\")\n",
    "print(f\"Ensemble improvement: {best_f1 - 0.863:+.4f} vs best individual\")"
   ]
  },
  {
   "cell_type": "markdown",
   "metadata": {},
   "source": [
    "### 8.2 Best Weighted Ensemble Evaluation on Full Evaluation Set"
   ]
  },
  {
   "cell_type": "code",
   "execution_count": 15,
   "metadata": {},
   "outputs": [
    {
     "name": "stdout",
     "output_type": "stream",
     "text": [
      "=== FULL VALIDATION TEST - BEST CONFIG ONLY ===\n",
      "Testing best config {'svm': 0.4, 'bert': 0.4, 'vgg16': 0.2} on all 3191 samples...\n"
     ]
    },
    {
     "name": "stderr",
     "output_type": "stream",
     "text": [
      "Full Validation: 100%|██████████| 3191/3191 [1:01:49<00:00,  1.16s/it]  "
     ]
    },
    {
     "name": "stdout",
     "output_type": "stream",
     "text": [
      "\n",
      "=== FULL VALIDATION RESULTS ===\n",
      "Samples processed: 3191/3191\n",
      "Runtime: 61.8 minutes\n",
      "F1 Weighted (full): 0.8727\n",
      "F1 Macro (full): 0.8408\n",
      "\n",
      "=== BASELINE COMPARISON ===\n",
      "Models on same validation split:\n",
      "  SVM:      0.763 ✅\n",
      "  VGG16:    0.518 ✅\n",
      "  Ensemble: 0.8727 ✅\n",
      "\n",
      "Models on unknown validation split:\n",
      "  BERT:     0.863 ⚠️ (different split, possible leakage)\n",
      "\n",
      "Valid conclusions:\n",
      "✅ Ensemble shows multimodal improvement over individual clean models\n",
      "❓ BERT comparison inconclusive due to validation split uncertainty\n"
     ]
    },
    {
     "name": "stderr",
     "output_type": "stream",
     "text": [
      "\n"
     ]
    }
   ],
   "source": [
    "# Test only the best configuration on full validation set\n",
    "import time\n",
    "\n",
    "print(\"=== FULL VALIDATION TEST - BEST CONFIG ONLY ===\")\n",
    "\n",
    "best_weights = {'svm': 0.4, 'bert': 0.4, 'vgg16': 0.2}\n",
    "print(f\"Testing best config {best_weights} on all {len(df_val_ready)} samples...\")\n",
    "\n",
    "predictions = []\n",
    "true_labels = []\n",
    "\n",
    "# Progress tracking\n",
    "start_time = time.time()\n",
    "for idx, row in tqdm(df_val_ready.iterrows(), total=len(df_val_ready), desc=\"Full Validation\"):\n",
    "    try:\n",
    "        pred = predict_ensemble_sample(row['text'], row['image_path'], best_weights)\n",
    "        predictions.append(pred)\n",
    "        true_labels.append(row['prdtypecode_encoded'])\n",
    "    except Exception as e:\n",
    "        print(f\"Error on sample {idx}: {e}\")\n",
    "        continue\n",
    "\n",
    "# Calculate final metrics\n",
    "f1_weighted_full = f1_score(true_labels, predictions, average='weighted')\n",
    "f1_macro_full = f1_score(true_labels, predictions, average='macro')\n",
    "\n",
    "runtime = time.time() - start_time\n",
    "print(f\"\\n=== FULL VALIDATION RESULTS ===\")\n",
    "print(f\"Samples processed: {len(predictions)}/{len(df_val_ready)}\")\n",
    "print(f\"Runtime: {runtime/60:.1f} minutes\")\n",
    "print(f\"F1 Weighted (full): {f1_weighted_full:.4f}\")\n",
    "print(f\"F1 Macro (full): {f1_macro_full:.4f}\")\n",
    "\n",
    "# Compare with individual baselines (with BERT caveat)\n",
    "print(f\"\\n=== BASELINE COMPARISON ===\")\n",
    "print(f\"Models on same validation split:\")\n",
    "print(f\"  SVM:      0.763 ✅\")\n",
    "print(f\"  VGG16:    0.518 ✅\") \n",
    "print(f\"  Ensemble: {f1_weighted_full:.4f} ✅\")\n",
    "\n",
    "print(f\"\\nModels on unknown validation split:\")\n",
    "print(f\"  BERT:     0.863 ⚠️ (different split, possible leakage)\")\n",
    "\n",
    "print(f\"\\nValid conclusions:\")\n",
    "if f1_weighted_full > max(0.763, 0.518):\n",
    "    print(f\"✅ Ensemble shows multimodal improvement over individual clean models\")\n",
    "    \n",
    "print(f\"❓ BERT comparison inconclusive due to validation split uncertainty\")"
   ]
  },
  {
   "cell_type": "markdown",
   "metadata": {},
   "source": [
    "### 10. Save Results & Analysis"
   ]
  },
  {
   "cell_type": "code",
   "execution_count": 16,
   "metadata": {},
   "outputs": [
    {
     "name": "stdout",
     "output_type": "stream",
     "text": [
      "✅ Final ensemble results saved to ../results/ensemble_final_results.json\n",
      "🎯 ENSEMBLE SUCCESS: 0.8727 F1 weighted\n",
      "🏆 BEATS CHALLENGE BENCHMARK by 0.0614 points!\n"
     ]
    }
   ],
   "source": [
    "# Save final ensemble results\n",
    "final_ensemble_results = {\n",
    "    'ensemble_performance': {\n",
    "        'f1_weighted': 0.8727,\n",
    "        'f1_macro': 0.8408,\n",
    "        'samples_evaluated': 3191,\n",
    "        'runtime_minutes': 61.8\n",
    "    },\n",
    "    'best_configuration': {\n",
    "        'svm_weight': 0.4,\n",
    "        'bert_weight': 0.4, \n",
    "        'vgg16_weight': 0.2\n",
    "    },\n",
    "    'baseline_comparison': {\n",
    "        'svm_f1': 0.763,\n",
    "        'vgg16_f1': 0.518,\n",
    "        'bert_f1_uncertain': 0.863,\n",
    "        'ensemble_improvement_vs_svm': 0.8727 - 0.763,\n",
    "        'ensemble_improvement_vs_vgg16': 0.8727 - 0.518\n",
    "    },\n",
    "    'benchmark_comparison': {\n",
    "        'official_text_benchmark': 0.8113,\n",
    "        'ensemble_vs_benchmark': 0.8727 - 0.8113,\n",
    "        'percentage_improvement': ((0.8727 - 0.8113) / 0.8113) * 100\n",
    "    }\n",
    "}\n",
    "\n",
    "# Save to results folder\n",
    "import json\n",
    "os.makedirs('../results', exist_ok=True)\n",
    "with open('../results/ensemble_final_results.json', 'w') as f:\n",
    "    json.dump(final_ensemble_results, f, indent=2)\n",
    "\n",
    "print(\"✅ Final ensemble results saved to ../results/ensemble_final_results.json\")\n",
    "print(f\"🎯 ENSEMBLE SUCCESS: {final_ensemble_results['ensemble_performance']['f1_weighted']:.4f} F1 weighted\")\n",
    "print(f\"🏆 BEATS CHALLENGE BENCHMARK by {final_ensemble_results['benchmark_comparison']['ensemble_vs_benchmark']:.4f} points!\")"
   ]
  }
 ],
 "metadata": {
  "kernelspec": {
   "display_name": "rakuten-env-clean",
   "language": "python",
   "name": "python3"
  },
  "language_info": {
   "codemirror_mode": {
    "name": "ipython",
    "version": 3
   },
   "file_extension": ".py",
   "mimetype": "text/x-python",
   "name": "python",
   "nbconvert_exporter": "python",
   "pygments_lexer": "ipython3",
   "version": "3.11.13"
  }
 },
 "nbformat": 4,
 "nbformat_minor": 2
}
