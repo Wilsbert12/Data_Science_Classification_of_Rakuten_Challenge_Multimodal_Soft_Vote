{
 "cells": [
  {
   "cell_type": "markdown",
   "id": "2acf00fb",
   "metadata": {},
   "source": [
    "# Image classifiers // VGG16\n",
    "1. Setup\n",
    "2. Data transformations\n",
    "3. Data load\n",
    "### 1. Setup // Import modules"
   ]
  },
  {
   "cell_type": "code",
   "execution_count": null,
   "id": "92c45f84",
   "metadata": {},
   "outputs": [],
   "source": [
    "import copy\n",
    "import os\n",
    "import shutil\n",
    "import time\n",
    "\n",
    "import pandas as pd\n",
    "\n",
    "from image_utils import copy_image_to_class_folders\n",
    "\n",
    "import torch\n",
    "import torch.nn as nn\n",
    "import torch.optim as optim\n",
    "from torch.optim import lr_scheduler\n",
    "import torchvision\n",
    "from torchvision import datasets, models, transforms"
   ]
  },
  {
   "cell_type": "markdown",
   "id": "284a27ad",
   "metadata": {},
   "source": [
    "### 2. Image data preparation\n",
    "Organize processed images into class-specific directories for model training.\n",
    "\n",
    "This cell takes preprocessed images and copies them into a structured directory hierarchy suitable for training image classification models. It performs a train/validation split (80/20 by default) and organizes images by their product type code into separate class folders."
   ]
  },
  {
   "cell_type": "code",
   "execution_count": null,
   "id": "c47bdfed",
   "metadata": {},
   "outputs": [],
   "source": [
    "#df_image_train = pd.read_csv(\"df_image_train.csv\", index_col=\"productid\")\n",
    "#copy_image_to_class_folders(df_image_train) # Duration 26apr2025"
   ]
  },
  {
   "cell_type": "markdown",
   "id": "82f3ed27",
   "metadata": {},
   "source": [
    "### 3. Data transformations"
   ]
  },
  {
   "cell_type": "code",
   "execution_count": null,
   "id": "953f0431",
   "metadata": {},
   "outputs": [],
   "source": [
    "# 2. Define data transformations\n",
    "data_transforms = {\n",
    "    'image_train_vgg16': transforms.Compose([\n",
    "#        transforms.Resize((224, 224)),  # VGG16 requires 224x224 input\n",
    "        transforms.RandomHorizontalFlip(),  # Data augmentation\n",
    "        transforms.ToTensor(),\n",
    "        transforms.Normalize([0.485, 0.456, 0.406], [0.229, 0.224, 0.225])  # ImageNet stats\n",
    "    ]),\n",
    "    'image_val_vgg16': transforms.Compose([\n",
    "#        transforms.Resize((224, 224)),\n",
    "        transforms.ToTensor(),\n",
    "        transforms.Normalize([0.485, 0.456, 0.406], [0.229, 0.224, 0.225])\n",
    "    ]),\n",
    "}"
   ]
  },
  {
   "cell_type": "markdown",
   "id": "d6994c4e",
   "metadata": {},
   "source": [
    "### 3. Load data"
   ]
  },
  {
   "cell_type": "code",
   "execution_count": null,
   "id": "e77328b6",
   "metadata": {},
   "outputs": [],
   "source": [
    "# 3. Load data\n",
    "data_dir = 'images/image_train_vgg16'  \n",
    "image_datasets = {x: datasets.ImageFolder(os.path.join(data_dir, x),\n",
    "                                          data_transforms[x])\n",
    "                  for x in ['image_train_vgg16', 'image_val_vgg16']}\n",
    "\n",
    "dataloaders = {x: torch.utils.data.DataLoader(image_datasets[x], batch_size=4,\n",
    "                                             shuffle=True, num_workers=4)\n",
    "              for x in ['image_train_vgg16', 'image_val_vgg16']}\n",
    "\n",
    "dataset_sizes = {x: len(image_datasets[x]) for x in ['image_train_vgg16', 'image_val_vgg16']}\n",
    "\n",
    "class_names = image_datasets['image_train_vgg16'].classes\n",
    "\n",
    "device = torch.device(\"cuda:0\" if torch.cuda.is_available() else \"cpu\")"
   ]
  },
  {
   "cell_type": "markdown",
   "id": "341fe815",
   "metadata": {},
   "source": [
    "### 4. Load model"
   ]
  },
  {
   "cell_type": "code",
   "execution_count": null,
   "id": "62ccb586",
   "metadata": {},
   "outputs": [],
   "source": [
    "# Load pre-trained VGG16 model\n",
    "model_ft = models.vgg16(weights='IMAGENET1K_V1')"
   ]
  },
  {
   "cell_type": "markdown",
   "id": "6eb8ad21",
   "metadata": {},
   "source": [
    "### 5. Modify the classifier"
   ]
  },
  {
   "cell_type": "code",
   "execution_count": null,
   "id": "ac84deeb",
   "metadata": {},
   "outputs": [],
   "source": [
    "# Freeze all parameters in the features (convolutional) layers\n",
    "for param in model_ft.features.parameters():\n",
    "    param.requires_grad = False\n",
    "\n",
    "# Replace the final layer in the classifier\n",
    "num_ftrs = model_ft.classifier[6].in_features\n",
    "model_ft.classifier[6] = nn.Linear(num_ftrs, 27)  # Replace with 27 outputs for your classes\n",
    "\n",
    "model_ft = model_ft.to(device)  # Move model to GPU if available"
   ]
  },
  {
   "cell_type": "markdown",
   "id": "8e570534",
   "metadata": {},
   "source": [
    "### 6. Loss Function and Optimizer"
   ]
  },
  {
   "cell_type": "code",
   "execution_count": null,
   "id": "e3bacea6",
   "metadata": {},
   "outputs": [],
   "source": [
    "# Set up loss function and optimizer\n",
    "criterion = nn.CrossEntropyLoss()\n",
    "\n",
    "# Only optimize parameters that require gradients\n",
    "optimizer_ft = optim.SGD(filter(lambda p: p.requires_grad, model_ft.parameters()), \n",
    "                         lr=0.001, momentum=0.9)\n",
    "\n",
    "# Decay LR by a factor of 0.1 every 7 epochs\n",
    "exp_lr_scheduler = lr_scheduler.StepLR(optimizer_ft, step_size=7, gamma=0.1)"
   ]
  },
  {
   "cell_type": "markdown",
   "id": "d2ee2bb2",
   "metadata": {},
   "source": [
    "### 7. Train and evaluate the model"
   ]
  },
  {
   "cell_type": "code",
   "execution_count": null,
   "id": "37fd508d",
   "metadata": {},
   "outputs": [],
   "source": [
    "# Training function\n",
    "def train_model(model, criterion, optimizer, scheduler, num_epochs=5):\n",
    "    since = time.time()\n",
    "    \n",
    "    best_model_wts = copy.deepcopy(model.state_dict())\n",
    "    best_acc = 0.0\n",
    "    \n",
    "    # Update these keys to match your actual dataloader dictionary keys\n",
    "    train_key = 'image_train_vgg16'  # Replace with your training data key\n",
    "    val_key = 'image_val_vgg16'     # Replace with your validation/test data key\n",
    "    \n",
    "    for epoch in range(num_epochs):\n",
    "        print(f'Epoch {epoch}/{num_epochs - 1}')\n",
    "        print('-' * 10)\n",
    "        \n",
    "        # Each epoch has a training and validation phase\n",
    "        for phase in [train_key, val_key]:\n",
    "            if phase == train_key:\n",
    "                model.train()  # Set model to training mode\n",
    "            else:\n",
    "                model.eval()   # Set model to evaluate mode\n",
    "                \n",
    "            running_loss = 0.0\n",
    "            running_corrects = 0\n",
    "            \n",
    "            # Iterate over data\n",
    "            for inputs, labels in dataloaders[phase]:\n",
    "                inputs = inputs.to(device)\n",
    "                labels = labels.to(device)\n",
    "                \n",
    "                # Zero the parameter gradients\n",
    "                optimizer.zero_grad()\n",
    "                \n",
    "                # Forward pass\n",
    "                # track history if only in train\n",
    "                with torch.set_grad_enabled(phase == train_key):\n",
    "                    outputs = model(inputs)\n",
    "                    _, preds = torch.max(outputs, 1)\n",
    "                    loss = criterion(outputs, labels)\n",
    "                    \n",
    "                    # Backward + optimize only if in training phase\n",
    "                    if phase == train_key:\n",
    "                        loss.backward()\n",
    "                        optimizer.step()\n",
    "                \n",
    "                # Statistics\n",
    "                running_loss += loss.item() * inputs.size(0)\n",
    "                running_corrects += torch.sum(preds == labels.data)\n",
    "            \n",
    "            if phase == train_key:\n",
    "                scheduler.step()\n",
    "                \n",
    "            epoch_loss = running_loss / dataset_sizes[phase]\n",
    "            epoch_acc = running_corrects.double() / dataset_sizes[phase]\n",
    "            \n",
    "            print(f'{phase} Loss: {epoch_loss:.4f} Acc: {epoch_acc:.4f}')\n",
    "            \n",
    "            # Deep copy the model if best\n",
    "            if phase == val_key and epoch_acc > best_acc:\n",
    "                best_acc = epoch_acc\n",
    "                best_model_wts = copy.deepcopy(model.state_dict())\n",
    "        \n",
    "        print()\n",
    "    \n",
    "    time_elapsed = time.time() - since\n",
    "    print(f'Training complete in {time_elapsed // 60:.0f}m {time_elapsed % 60:.0f}s')\n",
    "    print(f'Best val Acc: {best_acc:.4f}')\n",
    "    \n",
    "    # Load best model weights\n",
    "    model.load_state_dict(best_model_wts)\n",
    "    return model"
   ]
  },
  {
   "cell_type": "code",
   "execution_count": null,
   "id": "19d660a4",
   "metadata": {},
   "outputs": [],
   "source": [
    "# Train and evaluate the model\n",
    "model_ft = train_model(model_ft, criterion, optimizer_ft, exp_lr_scheduler, num_epochs=1)"
   ]
  },
  {
   "cell_type": "markdown",
   "id": "b15c49ac",
   "metadata": {},
   "source": [
    "### 8. Save the trained model"
   ]
  },
  {
   "cell_type": "code",
   "execution_count": null,
   "id": "c0a1330f",
   "metadata": {},
   "outputs": [],
   "source": [
    "torch.save(model_ft.state_dict(), 'vgg16_transfer_model.pth')"
   ]
  }
 ],
 "metadata": {
  "kernelspec": {
   "display_name": "Python 3",
   "language": "python",
   "name": "python3"
  },
  "language_info": {
   "codemirror_mode": {
    "name": "ipython",
    "version": 3
   },
   "file_extension": ".py",
   "mimetype": "text/x-python",
   "name": "python",
   "nbconvert_exporter": "python",
   "pygments_lexer": "ipython3",
   "version": "3.11.9"
  }
 },
 "nbformat": 4,
 "nbformat_minor": 5
}
